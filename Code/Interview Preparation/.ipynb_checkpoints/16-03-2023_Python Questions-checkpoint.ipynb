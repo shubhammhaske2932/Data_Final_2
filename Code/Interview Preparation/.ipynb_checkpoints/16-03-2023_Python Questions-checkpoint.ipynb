{
 "cells": [
  {
   "cell_type": "markdown",
   "metadata": {},
   "source": [
    "# Sort given list without using sort inbuilt function"
   ]
  },
  {
   "cell_type": "code",
   "execution_count": 1,
   "metadata": {},
   "outputs": [
    {
     "name": "stdout",
     "output_type": "stream",
     "text": [
      "[1, 3, 5, 12, 21, 41, 42, 78]\n"
     ]
    }
   ],
   "source": [
    "l=[12,3,41,5,21,78,42,1]\n",
    "l1=[]\n",
    "for x in range (len(l)):\n",
    "    n=l[0]\n",
    "    for y in l:\n",
    "        if y<n:\n",
    "            n=y\n",
    "    l1.append(n)\n",
    "    l.remove(n)\n",
    "print(l1) "
   ]
  },
  {
   "cell_type": "code",
   "execution_count": 2,
   "metadata": {},
   "outputs": [
    {
     "name": "stdout",
     "output_type": "stream",
     "text": [
      "[1, 3, 5, 12, 21, 41, 42, 78]\n"
     ]
    }
   ],
   "source": [
    "l=[12,3,41,5,21,78,42,1]\n",
    "for x in range (len(l)):\n",
    "    min_value=min(l[x:])\n",
    "    min_index=l.index(min_value)\n",
    "    l[x],l[min_index]=l[min_index],l[x]\n",
    "print(l)"
   ]
  },
  {
   "cell_type": "markdown",
   "metadata": {},
   "source": [
    "# WAP to take dictionary from the keyboard and print sum of values?"
   ]
  },
  {
   "cell_type": "code",
   "execution_count": 3,
   "metadata": {},
   "outputs": [
    {
     "name": "stdout",
     "output_type": "stream",
     "text": [
      "Enter a length of dict:4\n",
      "Enter a Key:A\n",
      "Enter a value:10\n",
      "Enter a Key:B\n",
      "Enter a value:50\n",
      "Enter a Key:C\n",
      "Enter a value:100\n",
      "Enter a Key:D\n",
      "Enter a value:40\n",
      "{'A': 10, 'B': 50, 'C': 100, 'D': 40}\n",
      "200\n"
     ]
    }
   ],
   "source": [
    "n=int(input(\"Enter a length of dict:\"))\n",
    "d={}\n",
    "sum=0\n",
    "for x in range (n):\n",
    "    key=(input(\"Enter a Key:\"))\n",
    "    value=int(input(\"Enter a value:\"))\n",
    "    d[key]=value\n",
    "    \n",
    "print(d)\n",
    "\n",
    "for k,v in d.items():\n",
    "    sum=sum+v\n",
    "print(sum)"
   ]
  },
  {
   "cell_type": "markdown",
   "metadata": {},
   "source": [
    "# WAP to find no. of occurence of each vowels present in the given string?"
   ]
  },
  {
   "cell_type": "code",
   "execution_count": 4,
   "metadata": {},
   "outputs": [
    {
     "name": "stdout",
     "output_type": "stream",
     "text": [
      "Enter a string:aaaeeiioouusssshhvgdfsareteyi\n",
      "a Occurs 4 time in the given string\n",
      "e Occurs 4 time in the given string\n",
      "i Occurs 3 time in the given string\n",
      "o Occurs 2 time in the given string\n",
      "u Occurs 2 time in the given string\n"
     ]
    }
   ],
   "source": [
    "s=input(\"Enter a string:\").lower()\n",
    "vow=\"aeiou\"\n",
    "d={}\n",
    "for x in s:\n",
    "    if x in vow:\n",
    "        d[x]=d.get(x,0)+1\n",
    "        \n",
    "        \n",
    "for k,v in d.items():\n",
    "    print(f\"{k} Occurs {v} time in the given string\")"
   ]
  },
  {
   "cell_type": "markdown",
   "metadata": {},
   "source": [
    "# Write a Factorial Program"
   ]
  },
  {
   "cell_type": "code",
   "execution_count": 5,
   "metadata": {},
   "outputs": [
    {
     "name": "stdout",
     "output_type": "stream",
     "text": [
      "Enter a Number:5\n",
      "Factorial of 5 is 120\n"
     ]
    }
   ],
   "source": [
    "n=int(input(\"Enter a Number:\"))\n",
    "fra_no = 1\n",
    "for x in range (1,n+1):\n",
    "    fra_no = fra_no * x\n",
    "        \n",
    "print(f\"Factorial of {n} is {fra_no}\")"
   ]
  },
  {
   "cell_type": "markdown",
   "metadata": {},
   "source": [
    "# Find the Mobile number from below text which are start from 8,9 and end with 0"
   ]
  },
  {
   "cell_type": "code",
   "execution_count": 6,
   "metadata": {},
   "outputs": [
    {
     "data": {
      "text/plain": [
       "['9820991320', '8012389490']"
      ]
     },
     "execution_count": 6,
     "metadata": {},
     "output_type": "execute_result"
    }
   ],
   "source": [
    "import re\n",
    "text = '+91 9786546908, 9820991320, 8019276356, 8012389490'\n",
    "pattern = '[/b9|8][0-9]{8}[/0]'\n",
    "re.findall(pattern,text)"
   ]
  },
  {
   "cell_type": "code",
   "execution_count": 7,
   "metadata": {},
   "outputs": [
    {
     "data": {
      "text/plain": [
       "['+91 9786546908']"
      ]
     },
     "execution_count": 7,
     "metadata": {},
     "output_type": "execute_result"
    }
   ],
   "source": [
    "re.findall('[+][91]{2}[ ][0-9]{10}',text)"
   ]
  }
 ],
 "metadata": {
  "kernelspec": {
   "display_name": "Python 3 (ipykernel)",
   "language": "python",
   "name": "python3"
  },
  "language_info": {
   "codemirror_mode": {
    "name": "ipython",
    "version": 3
   },
   "file_extension": ".py",
   "mimetype": "text/x-python",
   "name": "python",
   "nbconvert_exporter": "python",
   "pygments_lexer": "ipython3",
   "version": "3.7.3"
  }
 },
 "nbformat": 4,
 "nbformat_minor": 5
}
