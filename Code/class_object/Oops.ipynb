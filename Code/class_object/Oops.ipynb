{
 "cells": [
  {
   "cell_type": "code",
   "execution_count": 13,
   "metadata": {},
   "outputs": [],
   "source": [
    "class A:\n",
    "    \n",
    "    def __init__(self,f_name,l_name):\n",
    "        print(\"Hello welcome to class A\")\n",
    "        self.f_name = f_name\n",
    "        self.l_name = l_name\n",
    "        \n",
    "    def user(self,f_name,l_name):\n",
    "        pass\n",
    "    \n",
    "    def user_details(self):\n",
    "        print(\"User First Name :\",self.f_name)\n",
    "        print(\"User Last Name :\",self.l_name)\n",
    "        "
   ]
  },
  {
   "cell_type": "code",
   "execution_count": 17,
   "metadata": {},
   "outputs": [
    {
     "name": "stdout",
     "output_type": "stream",
     "text": [
      "Hello welcome to class A\n",
      "User First Name : shubham\n",
      "User Last Name : mhaske\n"
     ]
    }
   ],
   "source": [
    "cls_obj = A(\"shubham\",\"mhaske\")\n",
    "cls_obj.user_details()"
   ]
  },
  {
   "cell_type": "code",
   "execution_count": 20,
   "metadata": {},
   "outputs": [],
   "source": [
    "class A:\n",
    "    def A1(self):\n",
    "        print(\"A1 function from class A\")\n",
    "        \n",
    "    def A2(self):\n",
    "        print(\"A2 function from class A\")\n",
    "        \n",
    "    def A3(self):\n",
    "        print(\"A3 function from class A\")"
   ]
  },
  {
   "cell_type": "code",
   "execution_count": 21,
   "metadata": {},
   "outputs": [],
   "source": [
    "class B(A):\n",
    "    def B1(self):\n",
    "        print(\"B1 function from class B\")\n",
    "        \n",
    "    def B2(self):\n",
    "        print(\"B2 function from class B\")\n",
    "        \n",
    "    def B3(self):\n",
    "        print(\"B3 function from class B\")"
   ]
  },
  {
   "cell_type": "code",
   "execution_count": 22,
   "metadata": {},
   "outputs": [],
   "source": [
    "cls_b = B()"
   ]
  },
  {
   "cell_type": "code",
   "execution_count": 24,
   "metadata": {},
   "outputs": [
    {
     "name": "stdout",
     "output_type": "stream",
     "text": [
      "B3 function from class B\n"
     ]
    }
   ],
   "source": [
    "cls_b.B3()"
   ]
  },
  {
   "cell_type": "code",
   "execution_count": 25,
   "metadata": {},
   "outputs": [
    {
     "name": "stdout",
     "output_type": "stream",
     "text": [
      "A3 function from class A\n"
     ]
    }
   ],
   "source": [
    "cls_b.A3()"
   ]
  }
 ],
 "metadata": {
  "kernelspec": {
   "display_name": "Python 3 (ipykernel)",
   "language": "python",
   "name": "python3"
  },
  "language_info": {
   "codemirror_mode": {
    "name": "ipython",
    "version": 3
   },
   "file_extension": ".py",
   "mimetype": "text/x-python",
   "name": "python",
   "nbconvert_exporter": "python",
   "pygments_lexer": "ipython3",
   "version": "3.7.3"
  }
 },
 "nbformat": 4,
 "nbformat_minor": 2
}
